{
 "cells": [
  {
   "cell_type": "markdown",
   "metadata": {},
   "source": [
    "# Übungsblatt 3\n",
    "\n",
    "## Aufgabe 1 &nbsp;&nbsp;&nbsp; Wortarten\n",
    "\n",
    "Bestimmen Sie die Wortarten des folgenden Satzes. Geben Sie jeweils das entsprechende Tag aus dem Universal Dependency (http://universaldependencies.org/de/pos/index.html) Tagset an.\n",
    "\n",
    "> Sie gab ihm das neue Buch von Chomsky, aber er zeigte kein Interesse daran."
   ]
  },
  {
   "cell_type": "markdown",
   "metadata": {},
   "source": [
    "| Sie | gab | ihm | das | neue | Buch | von | Chomsky, | aber | er  | zeigte | kein | Interesse | daran.\n",
    "| --- | --- | --- | --- | ---- | ---- | --- | -------- | ---- | --- | ------ | ---- | --------- | ------ |\n",
    "| TAG | TAG | TAG | TAG | TAG  | TAG  | TAG | TAG      | TAG  | TAG | TAG    | TAG  | TAG       | TAG    |"
   ]
  },
  {
   "cell_type": "markdown",
   "metadata": {},
   "source": [
    "## Aufgabe 3 &nbsp;&nbsp;&nbsp; Phrasenstruktur\n",
    "\n",
    "Geben Sie für den folgenden Satz einen Phrasenstrukturbaum an.\n",
    "\n",
    "> Die Studierenden schenkten ihnen ein Buch von Chomsky.\n",
    "\n",
    "Erinnern Sie sich, dass Sie mit der Klasse `Tree` aus dem NLTK auch per Hand Syntaxbäume erstellen können (siehe nächste Codezelle).\n",
    "Sie dürfen aber auch gerne Papier und Stift benutzen :-)"
   ]
  },
  {
   "cell_type": "code",
   "execution_count": 4,
   "metadata": {
    "scrolled": true
   },
   "outputs": [
    {
     "data": {
      "image/png": "[encoded data removed]",
      "text/plain": [
       "Tree('S', [Tree('NP', [Tree('ART', ['the']), Tree('N', ['dog'])]), Tree('VP', [Tree('V', ['chased']), Tree('NP', [Tree('ART', ['the']), Tree('N', ['cat'])])])])"
      ]
     },
     "execution_count": 4,
     "metadata": {},
     "output_type": "execute_result"
    }
   ],
   "source": [
    "from nltk.tree import Tree\n",
    "\n",
    "np1 = Tree(\n",
    "    'NP',\n",
    "    [\n",
    "        Tree('ART', ['the']),\n",
    "        Tree('N', ['dog'])\n",
    "    ]\n",
    ")\n",
    "np2 = Tree(\n",
    "    'NP',\n",
    "    [\n",
    "        Tree('ART', ['the']),\n",
    "        Tree('N', ['cat'])\n",
    "    ]\n",
    ")\n",
    "vp = Tree(\n",
    "    'VP',\n",
    "    [\n",
    "        Tree('V', ['chased']),\n",
    "        np2\n",
    "    ]\n",
    ")\n",
    "s = Tree(\n",
    "    'S',\n",
    "    [\n",
    "        np1, vp\n",
    "    ]\n",
    ")\n",
    "\n",
    "s"
   ]
  },
  {
   "cell_type": "markdown",
   "metadata": {},
   "source": [
    "## Aufgabe 4 &nbsp;&nbsp;&nbsp; Konstituententests"
   ]
  },
  {
   "cell_type": "markdown",
   "metadata": {},
   "source": [
    "Füllen Sie folgende Tabelle aus, indem Sie den jeweils angegebenen Konstituententest am folgenden Satz ausführen.\n",
    "\n",
    "> Die Studierenden schenkten ihnen ein Buch über Fußball.\n",
    "\n",
    "| Wortgruppe | Substitutionstest | Eliminierungstest | Permutationstest | Konstituente?\n",
    "| ---------- | ----------------- | ----------------- | ---------------- | ------------- |\n",
    "| Die Studierenden | ... | ... | ... | ... |\n",
    "| ihnen ein | ... | ... | ... | ... |\n",
    "| Buch über Fußball | ... | ... | ... | ... |\n",
    "| über Fußball | ... | ... | ... | ... |"
   ]
  }
 ],
 "metadata": {
  "kernelspec": {
   "display_name": "Python 3",
   "language": "python",
   "name": "python3"
  },
  "language_info": {
   "codemirror_mode": {
    "name": "ipython",
    "version": 3
   },
   "file_extension": ".py",
   "mimetype": "text/x-python",
   "name": "python",
   "nbconvert_exporter": "python",
   "pygments_lexer": "ipython3",
   "version": "3.4.6"
  }
 },
 "nbformat": 4,
 "nbformat_minor": 2
}
