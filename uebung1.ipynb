{
 "cells": [
  {
   "cell_type": "markdown",
   "metadata": {},
   "source": [
    "# Übung 1"
   ]
  },
  {
   "cell_type": "markdown",
   "metadata": {},
   "source": [
    "## Bäume zeichnen\n",
    "Zunächst konstruieren wir manuell einen Baum:"
   ]
  },
  {
   "cell_type": "code",
   "execution_count": 1,
   "metadata": {
    "collapsed": true
   },
   "outputs": [],
   "source": [
    "from nltk.tree import Tree\n",
    "\n",
    "np1 = Tree('NP', [Tree('ART', ['der']), Tree('N', ['Hund'])])\n",
    "np2 = Tree('NP', [Tree('ART', ['die']), Tree('N', ['Katze'])])\n",
    "vp = Tree('VP', [Tree('V', ['jagt']), np2])"
   ]
  },
  {
   "cell_type": "markdown",
   "metadata": {},
   "source": [
    "Um ihn anzuzeigen, genügt es, die Variable alleine in die letzte Zeile einer Zelle zu schreiben."
   ]
  },
  {
   "cell_type": "code",
   "execution_count": 2,
   "metadata": {},
   "outputs": [
    {
     "data": {
      "image/png": "[encoded data removed]",
      "text/plain": [
       "Tree('VP', [Tree('V', ['jagt']), Tree('NP', [Tree('ART', ['die']), Tree('N', ['Katze'])])])"
      ]
     },
     "execution_count": 2,
     "metadata": {},
     "output_type": "execute_result"
    }
   ],
   "source": [
    "vp"
   ]
  },
  {
   "cell_type": "markdown",
   "metadata": {},
   "source": [
    "Möchte man mehr als nur einen Baum in derselben Zelle anzeigen, bietet `display` mehr Flexibilität."
   ]
  },
  {
   "cell_type": "code",
   "execution_count": 3,
   "metadata": {},
   "outputs": [
    {
     "data": {
      "image/png": "[encoded data removed]",
      "text/plain": [
       "Tree('NP', [Tree('ART', ['der']), Tree('N', ['Hund'])])"
      ]
     },
     "metadata": {},
     "output_type": "display_data"
    },
    {
     "data": {
      "image/png": "[encoded data removed]",
      "text/plain": [
       "Tree('NP', [Tree('ART', ['die']), Tree('N', ['Katze'])])"
      ]
     },
     "metadata": {},
     "output_type": "display_data"
    }
   ],
   "source": [
    "display(np1)\n",
    "display(np2)"
   ]
  },
  {
   "cell_type": "markdown",
   "metadata": {},
   "source": [
    "Für eine Darstellung in der Konsole gibt es zwei Möglichkeiten:"
   ]
  },
  {
   "cell_type": "code",
   "execution_count": 4,
   "metadata": {},
   "outputs": [
    {
     "name": "stdout",
     "output_type": "stream",
     "text": [
      "(VP (V jagt) (NP (ART die) (N Katze)))\n"
     ]
    }
   ],
   "source": [
    "print(vp)"
   ]
  },
  {
   "cell_type": "code",
   "execution_count": 5,
   "metadata": {},
   "outputs": [
    {
     "name": "stdout",
     "output_type": "stream",
     "text": [
      "      VP          \n",
      " ┌────┴───┐        \n",
      " │        NP      \n",
      " │    ┌───┴────┐   \n",
      " V   ART       N  \n",
      " │    │        │   \n",
      "jagt die     Katze\n",
      "\n"
     ]
    }
   ],
   "source": [
    "vp.pretty_print(unicodelines=True)"
   ]
  },
  {
   "cell_type": "markdown",
   "metadata": {},
   "source": [
    "## Stanford Parser\n",
    "Wenn Sie den Stanford Parser erfolgreich installiert haben, können Sie auch folgende Zellen ausprobieren."
   ]
  },
  {
   "cell_type": "code",
   "execution_count": 6,
   "metadata": {
    "collapsed": true
   },
   "outputs": [],
   "source": [
    "from nltk.parse.stanford import StanfordParser, StanfordDependencyParser\n",
    "import os"
   ]
  },
  {
   "cell_type": "markdown",
   "metadata": {},
   "source": [
    "### Deutsche Konstituentenbäume\n",
    "Zunächst müssen die Pfade korrekt gesetzt werden.\n",
    "\n",
    "`PATH_TO_CORE` : Pfad zum CoreNLP\n",
    "\n",
    "`PATH_TO_GER_MODEL` : Pfad zum deutschen Modell\n",
    "\n",
    "Verwenden Sie am besten voll ausgeschriebene absolute Pfade."
   ]
  },
  {
   "cell_type": "code",
   "execution_count": 7,
   "metadata": {
    "collapsed": true
   },
   "outputs": [],
   "source": [
    "PATH_TO_CORE = \"...\"\n",
    "PATH_TO_GER_MODEL = \"...\""
   ]
  },
  {
   "cell_type": "code",
   "execution_count": 8,
   "metadata": {
    "collapsed": true
   },
   "outputs": [],
   "source": [
    "jar = os.path.join(\n",
    "    PATH_TO_CORE,\n",
    "    \"stanford-corenlp-3.8.0.jar\"\n",
    ")\n",
    "ger_model = os.path.join(\n",
    "    PATH_TO_GER_MODEL,\n",
    "    \"stanford-german-corenlp-2017-06-09-models.jar\"\n",
    ")"
   ]
  },
  {
   "cell_type": "markdown",
   "metadata": {},
   "source": [
    "Anschließend kann der `StanfordParser` damit geladen werden."
   ]
  },
  {
   "cell_type": "code",
   "execution_count": 9,
   "metadata": {
    "collapsed": true
   },
   "outputs": [],
   "source": [
    "parser = StanfordParser(\n",
    "    jar, ger_model,\n",
    "    model_path=\"edu/stanford/nlp/models/lexparser/\" + \n",
    "        \"germanPCFG.ser.gz\"\n",
    ")"
   ]
  },
  {
   "cell_type": "markdown",
   "metadata": {},
   "source": [
    "Für eine syntaktische Analyse verwenden Sie einfach `raw_parse`."
   ]
  },
  {
   "cell_type": "code",
   "execution_count": 10,
   "metadata": {
    "scrolled": false
   },
   "outputs": [
    {
     "name": "stdout",
     "output_type": "stream",
     "text": [
      "            ROOT                 \n",
      "             │                    \n",
      "             S                   \n",
      " ┌─────┬─────┴──────┬──────────┐  \n",
      " │     │            NP         │ \n",
      " │     │     ┌──────┼─────┐    │  \n",
      "PDS  VAFIN PPOSAT  ADJA   NN   $.\n",
      " │     │     │      │     │    │  \n",
      "Dies  ist   mein  erster Satz  . \n",
      "\n"
     ]
    }
   ],
   "source": [
    "tree_list = list(parser.raw_parse('Dies ist mein erster Satz.'))\n",
    "tree_list[0].pretty_print(unicodelines=True)"
   ]
  },
  {
   "cell_type": "markdown",
   "metadata": {},
   "source": [
    "### Englische Dependenzbäume\n",
    "Dieses zweite Beispiel zeigt die Funktionsweise des Dependenzparsers und die des englischen Modells.\n",
    "\n",
    "Analog müssen die Pfade zu CoreNLP und Modell definiert werden:"
   ]
  },
  {
   "cell_type": "code",
   "execution_count": 11,
   "metadata": {
    "collapsed": true
   },
   "outputs": [],
   "source": [
    "jar = os.path.join(\n",
    "    PATH_TO_CORE,\n",
    "    \"stanford-corenlp-3.8.0.jar\"\n",
    ")\n",
    "model = os.path.join(\n",
    "    PATH_TO_CORE,\n",
    "    \"stanford-corenlp-3.8.0-models.jar\"\n",
    ")"
   ]
  },
  {
   "cell_type": "markdown",
   "metadata": {},
   "source": [
    "Damit wird dann der Parser (ein `StanfordDependencyParser` in diesem Fall) initialisiert."
   ]
  },
  {
   "cell_type": "code",
   "execution_count": 12,
   "metadata": {
    "collapsed": true
   },
   "outputs": [],
   "source": [
    "dep_parser = StanfordDependencyParser(\n",
    "    jar, model,\n",
    "    model_path=\"edu/stanford/nlp/models/lexparser/\" + \n",
    "    \"englishPCFG.ser.gz\"\n",
    ")"
   ]
  },
  {
   "cell_type": "markdown",
   "metadata": {},
   "source": [
    "Das Parsing geschieht wieder mittels `raw_parse`."
   ]
  },
  {
   "cell_type": "code",
   "execution_count": 13,
   "metadata": {
    "scrolled": true
   },
   "outputs": [
    {
     "name": "stdout",
     "output_type": "stream",
     "text": [
      "digraph G{\n",
      "edge [dir=forward]\n",
      "node [shape=plaintext]\n",
      "\n",
      "0 [label=\"0 (None)\"]\n",
      "0 -> 2 [label=\"root\"]\n",
      "1 [label=\"1 (I)\"]\n",
      "2 [label=\"2 (saw)\"]\n",
      "2 -> 1 [label=\"nsubj\"]\n",
      "2 -> 4 [label=\"dobj\"]\n",
      "3 [label=\"3 (an)\"]\n",
      "4 [label=\"4 (elephant)\"]\n",
      "4 -> 3 [label=\"det\"]\n",
      "}\n"
     ]
    }
   ],
   "source": [
    "result = dep_parser.raw_parse('I saw an elephant')\n",
    "for parse in result:\n",
    "    print(parse.to_dot())"
   ]
  },
  {
   "cell_type": "markdown",
   "metadata": {},
   "source": [
    "Probieren Sie auch die Default-Darstellung dieser Dependency-Graphen in Jupyter aus.\n",
    "(Sie müssen dafür evtl. [graphviz](http://www.graphviz.org/) installieren.)"
   ]
  },
  {
   "cell_type": "code",
   "execution_count": 14,
   "metadata": {
    "scrolled": false
   },
   "outputs": [
    {
     "data": {
      "image/svg+xml": [
       "<?xml version=\"1.0\" encoding=\"UTF-8\" standalone=\"no\"?>\n",
       "<!DOCTYPE svg PUBLIC \"-//W3C//DTD SVG 1.1//EN\"\n",
       " \"http://www.w3.org/Graphics/SVG/1.1/DTD/svg11.dtd\">\n",
       "<!-- Generated by graphviz version 2.38.0 (20140413.2041)\n",
       " -->\n",
       "<!-- Title: G Pages: 1 -->\n",
       "<svg width=\"166pt\" height=\"305pt\"\n",
       " viewBox=\"0.00 0.00 166.00 305.00\" xmlns=\"http://www.w3.org/2000/svg\" xmlns:xlink=\"http://www.w3.org/1999/xlink\">\n",
       "<g id=\"graph0\" class=\"graph\" transform=\"scale(1 1) rotate(0) translate(4 301)\">\n",
       "<title>G</title>\n",
       "<polygon fill=\"white\" stroke=\"none\" points=\"-4,4 -4,-301 162,-301 162,4 -4,4\"/>\n",
       "<!-- 0 -->\n",
       "<g id=\"node1\" class=\"node\"><title>0</title>\n",
       "<text text-anchor=\"middle\" x=\"62\" y=\"-275.3\" font-family=\"Times,serif\" font-size=\"14.00\">0 (None)</text>\n",
       "</g>\n",
       "<!-- 2 -->\n",
       "<g id=\"node2\" class=\"node\"><title>2</title>\n",
       "<text text-anchor=\"middle\" x=\"62\" y=\"-188.3\" font-family=\"Times,serif\" font-size=\"14.00\">2 (saw)</text>\n",
       "</g>\n",
       "<!-- 0&#45;&gt;2 -->\n",
       "<g id=\"edge1\" class=\"edge\"><title>0&#45;&gt;2</title>\n",
       "<path fill=\"none\" stroke=\"black\" d=\"M62,-260.799C62,-249.163 62,-233.548 62,-220.237\"/>\n",
       "<polygon fill=\"black\" stroke=\"black\" points=\"65.5001,-220.175 62,-210.175 58.5001,-220.175 65.5001,-220.175\"/>\n",
       "<text text-anchor=\"middle\" x=\"74\" y=\"-231.8\" font-family=\"Times,serif\" font-size=\"14.00\">root</text>\n",
       "</g>\n",
       "<!-- 1 -->\n",
       "<g id=\"node3\" class=\"node\"><title>1</title>\n",
       "<text text-anchor=\"middle\" x=\"27\" y=\"-101.3\" font-family=\"Times,serif\" font-size=\"14.00\">1 (I)</text>\n",
       "</g>\n",
       "<!-- 2&#45;&gt;1 -->\n",
       "<g id=\"edge2\" class=\"edge\"><title>2&#45;&gt;1</title>\n",
       "<path fill=\"none\" stroke=\"black\" d=\"M53.1556,-173.721C50.4132,-168.125 47.4661,-161.851 45,-156 41.8609,-148.552 38.7623,-140.345 36.044,-132.772\"/>\n",
       "<polygon fill=\"black\" stroke=\"black\" points=\"39.3331,-131.575 32.7183,-123.299 32.7283,-133.894 39.3331,-131.575\"/>\n",
       "<text text-anchor=\"middle\" x=\"60.5\" y=\"-144.8\" font-family=\"Times,serif\" font-size=\"14.00\">nsubj</text>\n",
       "</g>\n",
       "<!-- 4 -->\n",
       "<g id=\"node4\" class=\"node\"><title>4</title>\n",
       "<text text-anchor=\"middle\" x=\"115\" y=\"-101.3\" font-family=\"Times,serif\" font-size=\"14.00\">4 (elephant)</text>\n",
       "</g>\n",
       "<!-- 2&#45;&gt;4 -->\n",
       "<g id=\"edge3\" class=\"edge\"><title>2&#45;&gt;4</title>\n",
       "<path fill=\"none\" stroke=\"black\" d=\"M72.7253,-173.799C80.2683,-161.702 90.4923,-145.305 98.9962,-131.667\"/>\n",
       "<polygon fill=\"black\" stroke=\"black\" points=\"101.97,-133.513 104.291,-123.175 96.0296,-129.809 101.97,-133.513\"/>\n",
       "<text text-anchor=\"middle\" x=\"104.5\" y=\"-144.8\" font-family=\"Times,serif\" font-size=\"14.00\">dobj</text>\n",
       "</g>\n",
       "<!-- 3 -->\n",
       "<g id=\"node5\" class=\"node\"><title>3</title>\n",
       "<text text-anchor=\"middle\" x=\"115\" y=\"-14.3\" font-family=\"Times,serif\" font-size=\"14.00\">3 (an)</text>\n",
       "</g>\n",
       "<!-- 4&#45;&gt;3 -->\n",
       "<g id=\"edge4\" class=\"edge\"><title>4&#45;&gt;3</title>\n",
       "<path fill=\"none\" stroke=\"black\" d=\"M115,-86.799C115,-75.1626 115,-59.5479 115,-46.2368\"/>\n",
       "<polygon fill=\"black\" stroke=\"black\" points=\"118.5,-46.1754 115,-36.1754 111.5,-46.1755 118.5,-46.1754\"/>\n",
       "<text text-anchor=\"middle\" x=\"124.5\" y=\"-57.8\" font-family=\"Times,serif\" font-size=\"14.00\">det</text>\n",
       "</g>\n",
       "</g>\n",
       "</svg>\n"
      ],
      "text/plain": [
       "<DependencyGraph with 5 nodes>"
      ]
     },
     "execution_count": 14,
     "metadata": {},
     "output_type": "execute_result"
    }
   ],
   "source": [
    "parse"
   ]
  }
 ],
 "metadata": {
  "kernelspec": {
   "display_name": "Python 3",
   "language": "python",
   "name": "python3"
  },
  "language_info": {
   "codemirror_mode": {
    "name": "ipython",
    "version": 3
   },
   "file_extension": ".py",
   "mimetype": "text/x-python",
   "name": "python",
   "nbconvert_exporter": "python",
   "pygments_lexer": "ipython3",
   "version": "3.4.6"
  }
 },
 "nbformat": 4,
 "nbformat_minor": 2
}
